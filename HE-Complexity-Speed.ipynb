{
 "cells": [
  {
   "cell_type": "markdown",
   "metadata": {},
   "source": [
    "# Complexity of Paillier Algorithms "
   ]
  },
  {
   "cell_type": "markdown",
   "metadata": {},
   "source": [
    "[A Comparison of El Gamal and Paillier\n",
    "Cryptosystems](http://koclab.cs.ucsb.edu/teaching/cren/project/2018/Chen.pdf]) mentioned the time complexity of Paillier Algorithms:\n"
   ]
  },
  {
   "cell_type": "markdown",
   "metadata": {},
   "source": [
    "![](figs/quote.png)"
   ]
  },
  {
   "cell_type": "markdown",
   "metadata": {},
   "source": [
    "![](figs/table.png)"
   ]
  },
  {
   "cell_type": "markdown",
   "metadata": {},
   "source": [
    "From the sencond column of table above, we see number of operations required inrease linearly with the increase of the size of plaintext."
   ]
  },
  {
   "cell_type": "markdown",
   "metadata": {},
   "source": [
    "## Experiments"
   ]
  },
  {
   "cell_type": "markdown",
   "metadata": {},
   "source": [
    "In the setting of federated learning, there are few basic operations: \n",
    "* Encryption: $c = enc(x)$\n",
    "* Decryption: $x =  dec(c)$\n",
    "* Adding ciphertext with plaintext: $x + c$\n",
    "* Adding ciphertext with ciphertext: $c_1 + c_2$\n",
    "* Multiply a ciphertext with a plaintext: $cx$\n",
    "\n"
   ]
  },
  {
   "cell_type": "code",
   "execution_count": 70,
   "metadata": {},
   "outputs": [
    {
     "name": "stdout",
     "output_type": "stream",
     "text": [
      "model name\t: Intel(R) Xeon(R) CPU E5-2698 v4 @ 2.20GHz\n"
     ]
    }
   ],
   "source": [
    "!cat /proc/cpuinfo | grep 'model name' | uniq"
   ]
  },
  {
   "cell_type": "markdown",
   "metadata": {},
   "source": [
    "Implementation: [python-paillier](https://github.com/data61/python-paillier)"
   ]
  },
  {
   "cell_type": "code",
   "execution_count": 58,
   "metadata": {},
   "outputs": [],
   "source": [
    "import phe\n",
    "import numpy as np\n",
    "\n",
    "def encrypt_array(public_key:phe.PaillierPublicKey, x:np.array):\n",
    "    h, w = x.shape[0], x.shape[1]\n",
    "    c = [public_key.encrypt(float(item)) for item in x.flatten()]\n",
    "    c = np.array(c).reshape(h, w)\n",
    "    return c \n",
    "\n",
    "def decrypt_array(private_key:phe.PaillierPrivateKey, c:np.array):\n",
    "    h, w = c.shape[0], c.shape[1]\n",
    "    x = [private_key.decrypt(item) for item in c.flatten()]\n",
    "    x = np.array(x).reshape(h, w)\n",
    "    return x    \n",
    "\n",
    "def cipher_add(c1, c2):\n",
    "    return c1 + c2\n",
    "    \n",
    "def cipher_plain_add(c, x):\n",
    "    return c+x\n",
    "\n",
    "def cipher_plain_mul(c, a):\n",
    "    return a * c"
   ]
  },
  {
   "cell_type": "code",
   "execution_count": 59,
   "metadata": {},
   "outputs": [
    {
     "name": "stdout",
     "output_type": "stream",
     "text": [
      "[[1 1 1]\n",
      " [1 1 1]\n",
      " [1 1 1]]\n",
      "[[6. 4. 4.]\n",
      " [4. 6. 4.]\n",
      " [4. 4. 6.]]\n"
     ]
    }
   ],
   "source": [
    "from phe import paillier\n",
    "KEY_SIZE = 128\n",
    "pubkey, prikey = paillier.generate_paillier_keypair(n_length=KEY_SIZE)\n",
    "x = np.array([1]*9).reshape(3, 3)\n",
    "print(x)\n",
    "c = encrypt_array(pubkey, x)\n",
    "c = cipher_add(c, c)\n",
    "c = cipher_plain_add(c, np.eye(3, 3))\n",
    "c = cipher_plain_mul(c, 2)\n",
    "decrypted_x = decrypt_array(prikey, c)\n",
    "print(decrypted_x)"
   ]
  },
  {
   "cell_type": "markdown",
   "metadata": {},
   "source": [
    "We fix the key dimension and see how the time required of 5 basic operations varies when we increase the size of plaintext"
   ]
  },
  {
   "cell_type": "code",
   "execution_count": 61,
   "metadata": {},
   "outputs": [],
   "source": [
    "import time\n",
    "def timeit(method, num_trails, *args, **kwargs):\n",
    "    start = time.time()\n",
    "    for _ in range(num_trails):\n",
    "        res = method(*args, **kwargs)\n",
    "    used_time = time.time() - start\n",
    "    return used_time, res"
   ]
  },
  {
   "cell_type": "code",
   "execution_count": 64,
   "metadata": {},
   "outputs": [
    {
     "name": "stdout",
     "output_type": "stream",
     "text": [
      "Samples #100 | Feature Size 10\n",
      "Samples #100 | Feature Size 50\n",
      "Samples #100 | Feature Size 100\n",
      "Samples #100 | Feature Size 250\n",
      "Samples #100 | Feature Size 500\n",
      "Samples #100 | Feature Size 1000\n"
     ]
    }
   ],
   "source": [
    "import time\n",
    "feat_sizes = [10, 50, 100, 250, 500, 1000]\n",
    "NUM_SAMPLES = 100\n",
    "NUM_TRAILS = 5 \n",
    "record = []\n",
    "for feat_size in feat_sizes:\n",
    "    print(f\"Samples #{NUM_SAMPLES} | Feature Size {feat_size}\")\n",
    "    x = np.random.randn(NUM_SAMPLES, feat_size)\n",
    "    enc_time, c = timeit(encrypt_array, NUM_TRAILS, pubkey, x)\n",
    "    c_add_time, _ = timeit(cipher_add, NUM_TRAILS, c, c)\n",
    "    p_add_time, _ = timeit(cipher_plain_add, NUM_TRAILS, c, x)\n",
    "    p_mul_time, _ = timeit(cipher_plain_mul, NUM_TRAILS, c, 3)\n",
    "    dec_time, _ = timeit(decrypt_array, NUM_TRAILS, prikey, c)\n",
    "    record.append([feat_size, enc_time, c_add_time, p_add_time, p_mul_time, dec_time])\n"
   ]
  },
  {
   "cell_type": "code",
   "execution_count": 65,
   "metadata": {},
   "outputs": [],
   "source": [
    "import pandas as pd\n",
    "df = pd.DataFrame(record, columns=[\n",
    "    'feature size', \n",
    "    'encryption time',\n",
    "    'c + c time',\n",
    "    'c + x time',\n",
    "    'c * x time',\n",
    "    'decryption time'\n",
    "])"
   ]
  },
  {
   "cell_type": "code",
   "execution_count": 72,
   "metadata": {},
   "outputs": [
    {
     "data": {
      "text/html": [
       "<div>\n",
       "<style scoped>\n",
       "    .dataframe tbody tr th:only-of-type {\n",
       "        vertical-align: middle;\n",
       "    }\n",
       "\n",
       "    .dataframe tbody tr th {\n",
       "        vertical-align: top;\n",
       "    }\n",
       "\n",
       "    .dataframe thead th {\n",
       "        text-align: right;\n",
       "    }\n",
       "</style>\n",
       "<table border=\"1\" class=\"dataframe\">\n",
       "  <thead>\n",
       "    <tr style=\"text-align: right;\">\n",
       "      <th></th>\n",
       "      <th>feature size</th>\n",
       "      <th>encryption time</th>\n",
       "      <th>c + c time</th>\n",
       "      <th>c + x time</th>\n",
       "      <th>c * x time</th>\n",
       "      <th>decryption time</th>\n",
       "      <th>Total</th>\n",
       "    </tr>\n",
       "  </thead>\n",
       "  <tbody>\n",
       "    <tr>\n",
       "      <th>0</th>\n",
       "      <td>10</td>\n",
       "      <td>0.603065</td>\n",
       "      <td>0.014551</td>\n",
       "      <td>0.118330</td>\n",
       "      <td>0.024570</td>\n",
       "      <td>0.297539</td>\n",
       "      <td>11.058055</td>\n",
       "    </tr>\n",
       "    <tr>\n",
       "      <th>1</th>\n",
       "      <td>50</td>\n",
       "      <td>3.018854</td>\n",
       "      <td>0.074289</td>\n",
       "      <td>0.625760</td>\n",
       "      <td>0.134737</td>\n",
       "      <td>1.639590</td>\n",
       "      <td>55.493230</td>\n",
       "    </tr>\n",
       "    <tr>\n",
       "      <th>2</th>\n",
       "      <td>100</td>\n",
       "      <td>6.342592</td>\n",
       "      <td>0.123240</td>\n",
       "      <td>1.143241</td>\n",
       "      <td>0.462100</td>\n",
       "      <td>2.754181</td>\n",
       "      <td>110.825354</td>\n",
       "    </tr>\n",
       "    <tr>\n",
       "      <th>3</th>\n",
       "      <td>250</td>\n",
       "      <td>13.700213</td>\n",
       "      <td>0.275990</td>\n",
       "      <td>2.896023</td>\n",
       "      <td>0.804470</td>\n",
       "      <td>6.682265</td>\n",
       "      <td>274.358961</td>\n",
       "    </tr>\n",
       "    <tr>\n",
       "      <th>4</th>\n",
       "      <td>500</td>\n",
       "      <td>26.775391</td>\n",
       "      <td>0.955021</td>\n",
       "      <td>5.485407</td>\n",
       "      <td>1.370756</td>\n",
       "      <td>13.549033</td>\n",
       "      <td>548.135608</td>\n",
       "    </tr>\n",
       "    <tr>\n",
       "      <th>5</th>\n",
       "      <td>1000</td>\n",
       "      <td>54.089990</td>\n",
       "      <td>1.863433</td>\n",
       "      <td>10.803079</td>\n",
       "      <td>2.892955</td>\n",
       "      <td>26.988481</td>\n",
       "      <td>1096.637938</td>\n",
       "    </tr>\n",
       "  </tbody>\n",
       "</table>\n",
       "</div>"
      ],
      "text/plain": [
       "   feature size  encryption time  c + c time  c + x time  c * x time  \\\n",
       "0            10         0.603065    0.014551    0.118330    0.024570   \n",
       "1            50         3.018854    0.074289    0.625760    0.134737   \n",
       "2           100         6.342592    0.123240    1.143241    0.462100   \n",
       "3           250        13.700213    0.275990    2.896023    0.804470   \n",
       "4           500        26.775391    0.955021    5.485407    1.370756   \n",
       "5          1000        54.089990    1.863433   10.803079    2.892955   \n",
       "\n",
       "   decryption time        Total  \n",
       "0         0.297539    11.058055  \n",
       "1         1.639590    55.493230  \n",
       "2         2.754181   110.825354  \n",
       "3         6.682265   274.358961  \n",
       "4        13.549033   548.135608  \n",
       "5        26.988481  1096.637938  "
      ]
     },
     "execution_count": 72,
     "metadata": {},
     "output_type": "execute_result"
    }
   ],
   "source": [
    "df['Total'] = df.sum(axis=1)\n",
    "df"
   ]
  },
  {
   "cell_type": "code",
   "execution_count": 74,
   "metadata": {},
   "outputs": [
    {
     "data": {
      "text/plain": [
       "Text(0, 0.5, 'Time for 5 run(sec)')"
      ]
     },
     "execution_count": 74,
     "metadata": {},
     "output_type": "execute_result"
    },
    {
     "data": {
      "image/png": "[encoded data removed]",
      "text/plain": [
       "<Figure size 432x288 with 1 Axes>"
      ]
     },
     "metadata": {
      "needs_background": "light"
     },
     "output_type": "display_data"
    }
   ],
   "source": [
    "df.to_csv('paillier-time-complexity.csv')\n",
    "import matplotlib.pyplot as plt \n",
    "plt.plot(df['feature size'], df['Total'])\n",
    "plt.title('Time used for Paillier Encryption')\n",
    "plt.xlabel('Feature Size')\n",
    "plt.ylabel('Time for 5 run(sec)')"
   ]
  }
 ],
 "metadata": {
  "interpreter": {
   "hash": "3aeeecc898ad790c3595bc2ebae48d6a2546ab5e65cf8bb476118c27fd8febf3"
  },
  "kernelspec": {
   "display_name": "Python 3.9.7 ('phy-env')",
   "language": "python",
   "name": "python3"
  },
  "language_info": {
   "codemirror_mode": {
    "name": "ipython",
    "version": 3
   },
   "file_extension": ".py",
   "mimetype": "text/x-python",
   "name": "python",
   "nbconvert_exporter": "python",
   "pygments_lexer": "ipython3",
   "version": "3.9.7"
  },
  "orig_nbformat": 4
 },
 "nbformat": 4,
 "nbformat_minor": 2
}
