{
 "cells": [
  {
   "cell_type": "code",
   "execution_count": 1,
   "metadata": {},
   "outputs": [],
   "source": [
    "# Three clients\n",
    "clients_id_list = list(range(3))"
   ]
  },
  {
   "cell_type": "code",
   "execution_count": 2,
   "metadata": {},
   "outputs": [],
   "source": [
    "import numpy as np\n",
    "x, y = np.random.randn(2000, 300), np.ones(2000)"
   ]
  },
  {
   "cell_type": "code",
   "execution_count": 3,
   "metadata": {},
   "outputs": [],
   "source": [
    "import Courier\n",
    "courier = Courier.SyncLocalCourier(clients_id_list)"
   ]
  },
  {
   "cell_type": "code",
   "execution_count": 4,
   "metadata": {},
   "outputs": [],
   "source": [
    "from VFLDataUtils import SimpleNumpyDataLoader\n",
    "loader = SimpleNumpyDataLoader(\n",
    "    clients_id_list=clients_id_list,\n",
    "    data_source=(x, y)\n",
    ")"
   ]
  },
  {
   "cell_type": "code",
   "execution_count": 5,
   "metadata": {},
   "outputs": [],
   "source": [
    "loader_dict = loader.distribute()"
   ]
  },
  {
   "cell_type": "code",
   "execution_count": 6,
   "metadata": {},
   "outputs": [
    {
     "data": {
      "text/plain": [
       "{0: {'train_loader': <torch.utils.data.dataloader.DataLoader at 0x1c72c77c070>,\n",
       "  'test_loader': <torch.utils.data.dataloader.DataLoader at 0x1c72c5755e0>},\n",
       " 1: {'train_loader': <torch.utils.data.dataloader.DataLoader at 0x1c72c71dfa0>,\n",
       "  'test_loader': <torch.utils.data.dataloader.DataLoader at 0x1c735042400>},\n",
       " 2: {'train_loader': <torch.utils.data.dataloader.DataLoader at 0x1c735042580>,\n",
       "  'test_loader': <torch.utils.data.dataloader.DataLoader at 0x1c7350426d0>}}"
      ]
     },
     "execution_count": 6,
     "metadata": {},
     "output_type": "execute_result"
    }
   ],
   "source": [
    "loader_dict"
   ]
  },
  {
   "cell_type": "code",
   "execution_count": null,
   "metadata": {},
   "outputs": [],
   "source": []
  },
  {
   "cell_type": "code",
   "execution_count": null,
   "metadata": {},
   "outputs": [],
   "source": [
    "# Clients\n",
    "from Client import SyncFNNClient\n",
    "from torch import nn\n",
    "clients = [\n",
    "SyncFNNClient(id=id, \n",
    "model=nn.Sequential(\n",
    "\n",
    "))\n",
    "for id in clients_id_list]"
   ]
  }
 ],
 "metadata": {
  "interpreter": {
   "hash": "1579d4a348c2ef16482c05d3cfac916f73c8945ddf1938a1e045b3bdea82eece"
  },
  "kernelspec": {
   "display_name": "Python 3.9.7 ('VFL')",
   "language": "python",
   "name": "python3"
  },
  "language_info": {
   "codemirror_mode": {
    "name": "ipython",
    "version": 3
   },
   "file_extension": ".py",
   "mimetype": "text/x-python",
   "name": "python",
   "nbconvert_exporter": "python",
   "pygments_lexer": "ipython3",
   "version": "3.9.7"
  },
  "orig_nbformat": 4
 },
 "nbformat": 4,
 "nbformat_minor": 2
}
