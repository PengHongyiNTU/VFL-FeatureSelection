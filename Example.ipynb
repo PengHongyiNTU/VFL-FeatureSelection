{
 "cells": [
  {
   "cell_type": "code",
   "execution_count": 34,
   "metadata": {},
   "outputs": [],
   "source": [
    "# Three clients\n",
    "clients_id_list = list(range(3))"
   ]
  },
  {
   "cell_type": "code",
   "execution_count": 35,
   "metadata": {},
   "outputs": [],
   "source": [
    "import torch \n",
    "from torch.utils.data import TensorDataset\n",
    "x, y = np.random.randn(2000, 300), np.ones(2000)"
   ]
  },
  {
   "cell_type": "code",
   "execution_count": 24,
   "metadata": {},
   "outputs": [],
   "source": [
    "# Create a dataset that contains random number\n",
    "import numpy as np\n",
    "from sklearn.model_selection import trian_test_spilt\n",
    "from VFLDataset import VFLDataLoader, LoaderDict\n",
    "from torch.utils.data import DataLoader\n",
    "\n",
    "class SimpleNumpyDataLoader(VFLDataLoader):\n",
    "    def __init__(self, clients_id_list,  data_source:[], \n",
    "    train_batch_size=128, test_batch_size=1000):\n",
    "        super().__init__(clients_id_list, data_source)\n",
    "        self.dict = dict.fromkeys(self.clients_list, None)\n",
    "        self.x, self.y = data_source[0], data_source[1]\n",
    "        self.train_batch_size = train_batch_size\n",
    "        self.test_batch_size = test_batch_size\n",
    "\n",
    "    def __preprocess__(self):\n",
    "        x_train, x_test, y_train, y_test = trian_test_spilt(\n",
    "            self.x, self.y, test_size=0.2, random_state=42)\n",
    "        feat_dim = self.x.shape[0]\n",
    "        num_clients = len(self.clients_list)\n",
    "        feat_idx_list =  np.array_split(np.arange(feat_dim), \n",
    "        num_clients)\n",
    "        for i, clients_id in enumerate(self.dict.keys()):\n",
    "            feat_idx = feat_idx_list[i]\n",
    "            self.dict[clients_id] = {\n",
    "                'train_loader': \n",
    "                \n",
    "                TensorDataset(\n",
    "                    (self.x_train[:, feat_idx], self.y_train)\n",
    "                )\n",
    "\n",
    "            }\n",
    "\n",
    "\n",
    "    def distribute(self):\n",
    "        pass\n",
    "\n"
   ]
  },
  {
   "cell_type": "code",
   "execution_count": 2,
   "metadata": {},
   "outputs": [],
   "source": [
    "import Courier\n",
    "courier = Courier.SyncLocalCourier(clients_id_list)"
   ]
  },
  {
   "cell_type": "code",
   "execution_count": 3,
   "metadata": {},
   "outputs": [
    {
     "data": {
      "text/plain": [
       "<Courier.SyncLocalCourier at 0x12ac26b0220>"
      ]
     },
     "execution_count": 3,
     "metadata": {},
     "output_type": "execute_result"
    }
   ],
   "source": [
    "# Clients\n",
    "from Client import SyncFNNClient\n",
    "from torch import nn\n",
    "clients = [\n",
    "SyncFNNClient(id=id, \n",
    "model=nn.Sequential(\n",
    "\n",
    "))\n",
    "for id in clients_id_list]"
   ]
  }
 ],
 "metadata": {
  "interpreter": {
   "hash": "1579d4a348c2ef16482c05d3cfac916f73c8945ddf1938a1e045b3bdea82eece"
  },
  "kernelspec": {
   "display_name": "Python 3.9.7 ('VFL')",
   "language": "python",
   "name": "python3"
  },
  "language_info": {
   "codemirror_mode": {
    "name": "ipython",
    "version": 3
   },
   "file_extension": ".py",
   "mimetype": "text/x-python",
   "name": "python",
   "nbconvert_exporter": "python",
   "pygments_lexer": "ipython3",
   "version": "3.9.7"
  },
  "orig_nbformat": 4
 },
 "nbformat": 4,
 "nbformat_minor": 2
}
